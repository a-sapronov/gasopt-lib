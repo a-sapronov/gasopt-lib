{
 "cells": [
  {
   "cell_type": "code",
   "execution_count": 1,
   "metadata": {},
   "outputs": [],
   "source": [
    "%matplotlib inline\n",
    "\n",
    "import pandas as pd\n",
    "import numpy as np\n",
    "\n",
    "import seaborn as sns\n",
    "\n",
    "import matplotlib.pyplot as plt"
   ]
  },
  {
   "cell_type": "code",
   "execution_count": 2,
   "metadata": {},
   "outputs": [],
   "source": [
    "%load_ext autoreload\n",
    "%autoreload 2"
   ]
  },
  {
   "cell_type": "code",
   "execution_count": 3,
   "metadata": {},
   "outputs": [],
   "source": [
    "from IPython.core.interactiveshell import InteractiveShell\n",
    "InteractiveShell.ast_node_interactivity = \"all\""
   ]
  },
  {
   "cell_type": "code",
   "execution_count": null,
   "metadata": {},
   "outputs": [],
   "source": []
  },
  {
   "cell_type": "code",
   "execution_count": 4,
   "metadata": {},
   "outputs": [],
   "source": [
    "from datetime import timedelta as td"
   ]
  },
  {
   "cell_type": "code",
   "execution_count": 5,
   "metadata": {},
   "outputs": [],
   "source": [
    "D = pd.read_pickle('./gas-24h-depth-and-horizon.pkl')"
   ]
  },
  {
   "cell_type": "code",
   "execution_count": null,
   "metadata": {},
   "outputs": [],
   "source": []
  },
  {
   "cell_type": "code",
   "execution_count": 8,
   "metadata": {},
   "outputs": [
    {
     "data": {
      "text/html": [
       "<div>\n",
       "<style scoped>\n",
       "    .dataframe tbody tr th:only-of-type {\n",
       "        vertical-align: middle;\n",
       "    }\n",
       "\n",
       "    .dataframe tbody tr th {\n",
       "        vertical-align: top;\n",
       "    }\n",
       "\n",
       "    .dataframe thead th {\n",
       "        text-align: right;\n",
       "    }\n",
       "</style>\n",
       "<table border=\"1\" class=\"dataframe\">\n",
       "  <thead>\n",
       "    <tr style=\"text-align: right;\">\n",
       "      <th></th>\n",
       "      <th>datetime</th>\n",
       "      <th>f-24</th>\n",
       "      <th>f-23</th>\n",
       "      <th>f-22</th>\n",
       "      <th>f-21</th>\n",
       "      <th>f-20</th>\n",
       "      <th>f-19</th>\n",
       "      <th>f-18</th>\n",
       "      <th>f-17</th>\n",
       "      <th>f-16</th>\n",
       "      <th>...</th>\n",
       "      <th>t14</th>\n",
       "      <th>t15</th>\n",
       "      <th>t16</th>\n",
       "      <th>t17</th>\n",
       "      <th>t18</th>\n",
       "      <th>t19</th>\n",
       "      <th>t20</th>\n",
       "      <th>t21</th>\n",
       "      <th>t22</th>\n",
       "      <th>t23</th>\n",
       "    </tr>\n",
       "  </thead>\n",
       "  <tbody>\n",
       "    <tr>\n",
       "      <td>0</td>\n",
       "      <td>2019-10-01 00:00:00</td>\n",
       "      <td>16775.333333</td>\n",
       "      <td>14845.500000</td>\n",
       "      <td>13759.500000</td>\n",
       "      <td>14503.666667</td>\n",
       "      <td>13843.833333</td>\n",
       "      <td>13127.400000</td>\n",
       "      <td>6101.250000</td>\n",
       "      <td>4212.585902</td>\n",
       "      <td>3589.400000</td>\n",
       "      <td>...</td>\n",
       "      <td>12219.333333</td>\n",
       "      <td>12474.166667</td>\n",
       "      <td>11315.166667</td>\n",
       "      <td>9791.666667</td>\n",
       "      <td>12320.500000</td>\n",
       "      <td>11202.500000</td>\n",
       "      <td>7908.666667</td>\n",
       "      <td>7315.000000</td>\n",
       "      <td>11655.166667</td>\n",
       "      <td>11729.500000</td>\n",
       "    </tr>\n",
       "    <tr>\n",
       "      <td>1</td>\n",
       "      <td>2019-10-01 01:00:00</td>\n",
       "      <td>14845.500000</td>\n",
       "      <td>13759.500000</td>\n",
       "      <td>14503.666667</td>\n",
       "      <td>13843.833333</td>\n",
       "      <td>13127.400000</td>\n",
       "      <td>6101.250000</td>\n",
       "      <td>4212.585902</td>\n",
       "      <td>3589.400000</td>\n",
       "      <td>3583.666667</td>\n",
       "      <td>...</td>\n",
       "      <td>12474.166667</td>\n",
       "      <td>11315.166667</td>\n",
       "      <td>9791.666667</td>\n",
       "      <td>12320.500000</td>\n",
       "      <td>11202.500000</td>\n",
       "      <td>7908.666667</td>\n",
       "      <td>7315.000000</td>\n",
       "      <td>11655.166667</td>\n",
       "      <td>11729.500000</td>\n",
       "      <td>11319.000000</td>\n",
       "    </tr>\n",
       "    <tr>\n",
       "      <td>2</td>\n",
       "      <td>2019-10-01 02:00:00</td>\n",
       "      <td>13759.500000</td>\n",
       "      <td>14503.666667</td>\n",
       "      <td>13843.833333</td>\n",
       "      <td>13127.400000</td>\n",
       "      <td>6101.250000</td>\n",
       "      <td>4212.585902</td>\n",
       "      <td>3589.400000</td>\n",
       "      <td>3583.666667</td>\n",
       "      <td>3582.166667</td>\n",
       "      <td>...</td>\n",
       "      <td>11315.166667</td>\n",
       "      <td>9791.666667</td>\n",
       "      <td>12320.500000</td>\n",
       "      <td>11202.500000</td>\n",
       "      <td>7908.666667</td>\n",
       "      <td>7315.000000</td>\n",
       "      <td>11655.166667</td>\n",
       "      <td>11729.500000</td>\n",
       "      <td>11319.000000</td>\n",
       "      <td>12625.166667</td>\n",
       "    </tr>\n",
       "    <tr>\n",
       "      <td>3</td>\n",
       "      <td>2019-10-01 03:00:00</td>\n",
       "      <td>14503.666667</td>\n",
       "      <td>13843.833333</td>\n",
       "      <td>13127.400000</td>\n",
       "      <td>6101.250000</td>\n",
       "      <td>4212.585902</td>\n",
       "      <td>3589.400000</td>\n",
       "      <td>3583.666667</td>\n",
       "      <td>3582.166667</td>\n",
       "      <td>3553.666667</td>\n",
       "      <td>...</td>\n",
       "      <td>9791.666667</td>\n",
       "      <td>12320.500000</td>\n",
       "      <td>11202.500000</td>\n",
       "      <td>7908.666667</td>\n",
       "      <td>7315.000000</td>\n",
       "      <td>11655.166667</td>\n",
       "      <td>11729.500000</td>\n",
       "      <td>11319.000000</td>\n",
       "      <td>12625.166667</td>\n",
       "      <td>13670.000000</td>\n",
       "    </tr>\n",
       "    <tr>\n",
       "      <td>4</td>\n",
       "      <td>2019-10-01 04:00:00</td>\n",
       "      <td>13843.833333</td>\n",
       "      <td>13127.400000</td>\n",
       "      <td>6101.250000</td>\n",
       "      <td>4212.585902</td>\n",
       "      <td>3589.400000</td>\n",
       "      <td>3583.666667</td>\n",
       "      <td>3582.166667</td>\n",
       "      <td>3553.666667</td>\n",
       "      <td>3539.166667</td>\n",
       "      <td>...</td>\n",
       "      <td>12320.500000</td>\n",
       "      <td>11202.500000</td>\n",
       "      <td>7908.666667</td>\n",
       "      <td>7315.000000</td>\n",
       "      <td>11655.166667</td>\n",
       "      <td>11729.500000</td>\n",
       "      <td>11319.000000</td>\n",
       "      <td>12625.166667</td>\n",
       "      <td>13670.000000</td>\n",
       "      <td>13832.333333</td>\n",
       "    </tr>\n",
       "  </tbody>\n",
       "</table>\n",
       "<p>5 rows × 49 columns</p>\n",
       "</div>"
      ],
      "text/plain": [
       "             datetime          f-24          f-23          f-22          f-21  \\\n",
       "0 2019-10-01 00:00:00  16775.333333  14845.500000  13759.500000  14503.666667   \n",
       "1 2019-10-01 01:00:00  14845.500000  13759.500000  14503.666667  13843.833333   \n",
       "2 2019-10-01 02:00:00  13759.500000  14503.666667  13843.833333  13127.400000   \n",
       "3 2019-10-01 03:00:00  14503.666667  13843.833333  13127.400000   6101.250000   \n",
       "4 2019-10-01 04:00:00  13843.833333  13127.400000   6101.250000   4212.585902   \n",
       "\n",
       "           f-20          f-19         f-18         f-17         f-16  ...  \\\n",
       "0  13843.833333  13127.400000  6101.250000  4212.585902  3589.400000  ...   \n",
       "1  13127.400000   6101.250000  4212.585902  3589.400000  3583.666667  ...   \n",
       "2   6101.250000   4212.585902  3589.400000  3583.666667  3582.166667  ...   \n",
       "3   4212.585902   3589.400000  3583.666667  3582.166667  3553.666667  ...   \n",
       "4   3589.400000   3583.666667  3582.166667  3553.666667  3539.166667  ...   \n",
       "\n",
       "            t14           t15           t16           t17           t18  \\\n",
       "0  12219.333333  12474.166667  11315.166667   9791.666667  12320.500000   \n",
       "1  12474.166667  11315.166667   9791.666667  12320.500000  11202.500000   \n",
       "2  11315.166667   9791.666667  12320.500000  11202.500000   7908.666667   \n",
       "3   9791.666667  12320.500000  11202.500000   7908.666667   7315.000000   \n",
       "4  12320.500000  11202.500000   7908.666667   7315.000000  11655.166667   \n",
       "\n",
       "            t19           t20           t21           t22           t23  \n",
       "0  11202.500000   7908.666667   7315.000000  11655.166667  11729.500000  \n",
       "1   7908.666667   7315.000000  11655.166667  11729.500000  11319.000000  \n",
       "2   7315.000000  11655.166667  11729.500000  11319.000000  12625.166667  \n",
       "3  11655.166667  11729.500000  11319.000000  12625.166667  13670.000000  \n",
       "4  11729.500000  11319.000000  12625.166667  13670.000000  13832.333333  \n",
       "\n",
       "[5 rows x 49 columns]"
      ]
     },
     "execution_count": 8,
     "metadata": {},
     "output_type": "execute_result"
    }
   ],
   "source": [
    "D.head()"
   ]
  },
  {
   "cell_type": "code",
   "execution_count": 6,
   "metadata": {},
   "outputs": [],
   "source": [
    "X, y = D.filter(regex='^f', axis=1).to_numpy(), D.filter(regex='^t', axis=1).to_numpy()"
   ]
  },
  {
   "cell_type": "code",
   "execution_count": null,
   "metadata": {},
   "outputs": [],
   "source": []
  },
  {
   "cell_type": "code",
   "execution_count": 7,
   "metadata": {},
   "outputs": [],
   "source": [
    "depth, offset = 24, 0"
   ]
  },
  {
   "cell_type": "code",
   "execution_count": 8,
   "metadata": {
    "scrolled": true
   },
   "outputs": [],
   "source": [
    "tt = 600\n",
    "\n",
    "X_train, X_test, y_train, y_test = X[:tt], X[tt:], y[:tt], y[tt:]"
   ]
  },
  {
   "cell_type": "code",
   "execution_count": null,
   "metadata": {},
   "outputs": [],
   "source": []
  },
  {
   "cell_type": "code",
   "execution_count": 9,
   "metadata": {},
   "outputs": [],
   "source": [
    "from sklearn.neural_network import MLPRegressor\n",
    "from sklearn.preprocessing import MinMaxScaler\n",
    "\n",
    "from sklearn.pipeline import Pipeline\n",
    "\n",
    "from sklearn.model_selection import TimeSeriesSplit"
   ]
  },
  {
   "cell_type": "code",
   "execution_count": 10,
   "metadata": {},
   "outputs": [],
   "source": [
    "import sys\n",
    "sys.path.append(\"../gasopt/\") # Adds higher directory to python modules path."
   ]
  },
  {
   "cell_type": "code",
   "execution_count": 11,
   "metadata": {},
   "outputs": [],
   "source": [
    "from LinearARCH import LinearARCH"
   ]
  },
  {
   "cell_type": "code",
   "execution_count": 12,
   "metadata": {},
   "outputs": [],
   "source": [
    "#from gasopt.LinearNNRegression import LinearNNRegression\n",
    "from gasopt.MeanRegularizedExtrapolation import MeanRegularizedExtrapolation\n",
    "#%aimport MeanRegularizedExtrapolation"
   ]
  },
  {
   "cell_type": "code",
   "execution_count": 13,
   "metadata": {},
   "outputs": [
    {
     "data": {
      "text/plain": [
       "array([[16775.33333333, 14845.5       , 13759.5       , ...,\n",
       "         4156.        ,  7230.66666667,  7341.5       ],\n",
       "       [14845.5       , 13759.5       , 14503.66666667, ...,\n",
       "         7230.66666667,  7341.5       ,  7154.66666667],\n",
       "       [13759.5       , 14503.66666667, 13843.83333333, ...,\n",
       "         7341.5       ,  7154.66666667,  7881.16666667],\n",
       "       ...,\n",
       "       [13092.66666667, 13099.16666667, 12208.66666667, ...,\n",
       "        14570.16666667, 13652.33333333, 14021.        ],\n",
       "       [13099.16666667, 12208.66666667, 11576.83333333, ...,\n",
       "        13652.33333333, 14021.        , 14333.83333333],\n",
       "       [12208.66666667, 11576.83333333, 12303.16666667, ...,\n",
       "        14021.        , 14333.83333333, 12841.33333333]])"
      ]
     },
     "execution_count": 13,
     "metadata": {},
     "output_type": "execute_result"
    }
   ],
   "source": [
    "X"
   ]
  },
  {
   "cell_type": "code",
   "execution_count": 14,
   "metadata": {},
   "outputs": [],
   "source": [
    "\n",
    "mre = MeanRegularizedExtrapolation(lag=depth, offset=offset, savgol=False, filter_window=11, filter_polyorder=1)"
   ]
  },
  {
   "cell_type": "code",
   "execution_count": 19,
   "metadata": {},
   "outputs": [],
   "source": [
    "fitter = LinearARCH(lin_regressor=mre)"
   ]
  },
  {
   "cell_type": "code",
   "execution_count": null,
   "metadata": {},
   "outputs": [],
   "source": []
  },
  {
   "cell_type": "code",
   "execution_count": 20,
   "metadata": {},
   "outputs": [
    {
     "name": "stdout",
     "output_type": "stream",
     "text": [
      "Iteration:      1,   Func. Count:      6,   Neg. LLF: 2649.6114278831533\n",
      "Iteration:      2,   Func. Count:     14,   Neg. LLF: 2649.5584524068418\n",
      "Iteration:      3,   Func. Count:     22,   Neg. LLF: 2649.5350014947608\n",
      "Iteration:      4,   Func. Count:     29,   Neg. LLF: 2649.508067539572\n",
      "Iteration:      5,   Func. Count:     35,   Neg. LLF: 2649.5025278259586\n",
      "Iteration:      6,   Func. Count:     41,   Neg. LLF: 2649.4699266382017\n",
      "Iteration:      7,   Func. Count:     47,   Neg. LLF: 2649.3910735702084\n",
      "Iteration:      8,   Func. Count:     53,   Neg. LLF: 2649.2255922049444\n",
      "Iteration:      9,   Func. Count:     59,   Neg. LLF: 2648.990796054005\n",
      "Iteration:     10,   Func. Count:     65,   Neg. LLF: 2648.8436981780706\n",
      "Iteration:     11,   Func. Count:     71,   Neg. LLF: 2648.7916911770953\n",
      "Iteration:     12,   Func. Count:     77,   Neg. LLF: 2648.7916415421346\n",
      "Iteration:     13,   Func. Count:     83,   Neg. LLF: 2648.7916396645633\n",
      "Optimization terminated successfully.    (Exit mode 0)\n",
      "            Current function value: 2648.7916396644687\n",
      "            Iterations: 13\n",
      "            Function evaluations: 83\n",
      "            Gradient evaluations: 13\n",
      "                     Constant Mean - GARCH Model Results                      \n",
      "==============================================================================\n",
      "Dep. Variable:                      y   R-squared:                      -0.000\n",
      "Mean Model:             Constant Mean   Adj. R-squared:                 -0.000\n",
      "Vol Model:                      GARCH   Log-Likelihood:               -2648.79\n",
      "Distribution:                  Normal   AIC:                           5305.58\n",
      "Method:            Maximum Likelihood   BIC:                           5323.17\n",
      "                                        No. Observations:                  600\n",
      "Date:                Wed, May 20 2020   Df Residuals:                      596\n",
      "Time:                        12:20:51   Df Model:                            4\n",
      "                               Mean Model                               \n",
      "========================================================================\n",
      "                 coef    std err          t      P>|t|  95.0% Conf. Int.\n",
      "------------------------------------------------------------------------\n",
      "mu             0.9872      0.946      1.044      0.297 [ -0.867,  2.841]\n",
      "                            Volatility Model                            \n",
      "========================================================================\n",
      "                 coef    std err          t      P>|t|  95.0% Conf. Int.\n",
      "------------------------------------------------------------------------\n",
      "omega         32.9617     14.853      2.219  2.648e-02 [  3.850, 62.074]\n",
      "alpha[1]       0.1738  3.288e-02      5.286  1.249e-07 [  0.109,  0.238]\n",
      "beta[1]        0.7570  6.534e-02     11.586  4.844e-31 [  0.629,  0.885]\n",
      "========================================================================\n",
      "\n",
      "Covariance estimator: robust\n"
     ]
    },
    {
     "data": {
      "text/plain": [
       "LinearARCH(lin_regressor=MeanRegularizedExtrapolation(extrapolation='linear',\n",
       "                                                      filter_polyorder=1,\n",
       "                                                      filter_window=11, lag=24,\n",
       "                                                      offset=0, savgol=False))"
      ]
     },
     "execution_count": 20,
     "metadata": {},
     "output_type": "execute_result"
    }
   ],
   "source": [
    "fitter.fit(X_train, y_train)"
   ]
  },
  {
   "cell_type": "code",
   "execution_count": 31,
   "metadata": {},
   "outputs": [
    {
     "data": {
      "text/plain": [
       "array([[12208.66666667, 11576.83333333, 12303.16666667, 13021.83333333,\n",
       "         9898.66666667, 13972.66666667, 13078.83333333, 11793.66666667,\n",
       "        13007.16666667, 14055.16666667, 12034.83333333, 11271.16666667,\n",
       "        12426.33333333, 13986.5       , 13323.16666667, 12803.66666667,\n",
       "        10858.5       , 12324.        , 14568.83333333, 14570.16666667,\n",
       "        13652.33333333, 14021.        , 14333.83333333, 12841.33333333]])"
      ]
     },
     "execution_count": 31,
     "metadata": {},
     "output_type": "execute_result"
    }
   ],
   "source": [
    "X_test[-1].reshape(1,-1)"
   ]
  },
  {
   "cell_type": "code",
   "execution_count": 21,
   "metadata": {},
   "outputs": [],
   "source": [
    "y_pred = fitter.predict(X_test[-1].reshape(1,-1))"
   ]
  },
  {
   "cell_type": "code",
   "execution_count": null,
   "metadata": {},
   "outputs": [],
   "source": []
  },
  {
   "cell_type": "code",
   "execution_count": 22,
   "metadata": {},
   "outputs": [
    {
     "data": {
      "text/plain": [
       "763.8723834782822"
      ]
     },
     "execution_count": 22,
     "metadata": {},
     "output_type": "execute_result"
    }
   ],
   "source": [
    "(y_pred[0] - y_test[-1]).mean()"
   ]
  },
  {
   "cell_type": "code",
   "execution_count": null,
   "metadata": {
    "collapsed": true
   },
   "outputs": [],
   "source": []
  },
  {
   "cell_type": "code",
   "execution_count": 22,
   "metadata": {},
   "outputs": [],
   "source": [
    "def plot_tsprediction(observed_values, date_obs, forecast_values, date_forecast):\n",
    "    O = pd.DataFrame({'date':date_obs, 'gas_km3':observed_values})\n",
    "    P = pd.DataFrame({'date':date_forecast, 'gas_km3':forecast_values})\n",
    "    #print(P)\n",
    "    ax = O.plot('date', 'gas_km3', label='observed')\n",
    "    P.plot('date', 'gas_km3', ax=ax, label='forecast', alpha=.7, figsize=(14, 7))\n",
    "\n",
    "    ax.set_ylabel('Gas consumption')\n",
    "    plt.legend()\n",
    "    plt.show()"
   ]
  },
  {
   "cell_type": "code",
   "execution_count": 23,
   "metadata": {},
   "outputs": [
    {
     "data": {
      "text/plain": [
       "array([[ 3.312,  3.223,  7.129, ...,  9.626, 11.652, 10.316],\n",
       "       [ 3.223,  7.129,  6.903, ..., 11.652, 10.316,  6.77 ],\n",
       "       [ 7.129,  6.903,  6.485, ..., 10.316,  6.77 ,  7.545],\n",
       "       ...,\n",
       "       [14.011, 14.36 , 11.765, ..., 10.75 , 10.133, 10.971],\n",
       "       [14.36 , 11.765,  9.346, ..., 10.133, 10.971, 11.909],\n",
       "       [11.765,  9.346, 10.996, ..., 10.971, 11.909, 11.443]])"
      ]
     },
     "execution_count": 23,
     "metadata": {},
     "output_type": "execute_result"
    }
   ],
   "source": [
    "y_train"
   ]
  },
  {
   "cell_type": "code",
   "execution_count": 24,
   "metadata": {},
   "outputs": [
    {
     "data": {
      "text/plain": [
       "(368,)"
      ]
     },
     "execution_count": 24,
     "metadata": {},
     "output_type": "execute_result"
    }
   ],
   "source": [
    "y_train.mean(axis=1).shape"
   ]
  },
  {
   "cell_type": "code",
   "execution_count": 25,
   "metadata": {},
   "outputs": [
    {
     "data": {
      "text/plain": [
       "(192,)"
      ]
     },
     "execution_count": 25,
     "metadata": {},
     "output_type": "execute_result"
    }
   ],
   "source": [
    "y_test.ravel().shape"
   ]
  },
  {
   "cell_type": "code",
   "execution_count": 26,
   "metadata": {},
   "outputs": [
    {
     "data": {
      "text/plain": [
       "(192,)"
      ]
     },
     "execution_count": 26,
     "metadata": {},
     "output_type": "execute_result"
    }
   ],
   "source": [
    "y_pred.ravel().shape"
   ]
  },
  {
   "cell_type": "code",
   "execution_count": 27,
   "metadata": {},
   "outputs": [
    {
     "data": {
      "text/plain": [
       "(8, 24)"
      ]
     },
     "execution_count": 27,
     "metadata": {},
     "output_type": "execute_result"
    }
   ],
   "source": [
    "y_test.shape"
   ]
  },
  {
   "cell_type": "code",
   "execution_count": 28,
   "metadata": {},
   "outputs": [
    {
     "data": {
      "text/plain": [
       "(184,)"
      ]
     },
     "execution_count": 28,
     "metadata": {},
     "output_type": "execute_result"
    }
   ],
   "source": [
    "test_index.shape"
   ]
  },
  {
   "cell_type": "code",
   "execution_count": 29,
   "metadata": {},
   "outputs": [
    {
     "data": {
      "image/png": "[encoded data removed]",
      "text/plain": [
       "<Figure size 1008x504 with 1 Axes>"
      ]
     },
     "metadata": {
      "needs_background": "light"
     },
     "output_type": "display_data"
    }
   ],
   "source": [
    "plot_tsprediction(y[:,0], D.iloc[np.concatenate((train_index, test_index))].datetime, y_pred.ravel()[:-8], \n",
    "                  D.iloc[test_index].datetime)"
   ]
  },
  {
   "cell_type": "code",
   "execution_count": 30,
   "metadata": {},
   "outputs": [],
   "source": [
    "ymean = y_test.mean(axis=1)\n",
    "pmean = y_pred.mean(axis=1)\n",
    "\n",
    "dy = ymean[1:]-ymean[:-1]\n",
    "dp = pmean[1:]-pmean[:-1]\n",
    "\n",
    "PvR = pd.DataFrame({'dreal':dy, 'dpred':dp})\n"
   ]
  },
  {
   "cell_type": "code",
   "execution_count": 31,
   "metadata": {},
   "outputs": [
    {
     "data": {
      "text/plain": [
       "<matplotlib.axes._subplots.AxesSubplot at 0x7f1218175ad0>"
      ]
     },
     "execution_count": 31,
     "metadata": {},
     "output_type": "execute_result"
    },
    {
     "data": {
      "image/png": "[encoded data removed]",
      "text/plain": [
       "<Figure size 720x720 with 1 Axes>"
      ]
     },
     "metadata": {
      "needs_background": "light"
     },
     "output_type": "display_data"
    }
   ],
   "source": [
    "PvR.plot.scatter('dreal', 'dpred', xlim=(-400,400),ylim=(-400,400), figsize=(10,10))"
   ]
  },
  {
   "cell_type": "code",
   "execution_count": 32,
   "metadata": {},
   "outputs": [],
   "source": [
    "from gasopt.utils import compute_metrics"
   ]
  },
  {
   "cell_type": "code",
   "execution_count": 33,
   "metadata": {},
   "outputs": [
    {
     "data": {
      "text/plain": [
       "{'mae': 1.2791012068987062,\n",
       " 'rmse': 1.5721120336551382,\n",
       " 'mape': 11.401331631327976,\n",
       " 'mase': 0.905772419383569}"
      ]
     },
     "execution_count": 33,
     "metadata": {},
     "output_type": "execute_result"
    }
   ],
   "source": [
    "compute_metrics(y_train, y_test, y_pred)"
   ]
  },
  {
   "cell_type": "code",
   "execution_count": 59,
   "metadata": {},
   "outputs": [
    {
     "data": {
      "text/plain": [
       "['1.27', '1.58', '11.22', '0.9']"
      ]
     },
     "execution_count": 59,
     "metadata": {},
     "output_type": "execute_result"
    }
   ],
   "source": [
    "list(map(lambda x: str(round(x, 2)), compute_metrics(y_train, y_test, y_pred).values()))"
   ]
  },
  {
   "cell_type": "code",
   "execution_count": null,
   "metadata": {
    "collapsed": true
   },
   "outputs": [],
   "source": [
    "\n",
    "\n",
    "\n",
    "\n",
    "\n",
    "\n",
    "\n",
    "\n",
    "\n",
    "\n",
    "\n",
    "    "
   ]
  },
  {
   "cell_type": "code",
   "execution_count": null,
   "metadata": {
    "collapsed": true
   },
   "outputs": [],
   "source": []
  }
 ],
 "metadata": {
  "kernelspec": {
   "display_name": "Python 3",
   "language": "python",
   "name": "python3"
  },
  "language_info": {
   "codemirror_mode": {
    "name": "ipython",
    "version": 3
   },
   "file_extension": ".py",
   "mimetype": "text/x-python",
   "name": "python",
   "nbconvert_exporter": "python",
   "pygments_lexer": "ipython3",
   "version": "3.7.4"
  }
 },
 "nbformat": 4,
 "nbformat_minor": 2
}
